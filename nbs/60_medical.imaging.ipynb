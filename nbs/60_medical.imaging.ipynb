{
 "cells": [
  {
   "cell_type": "code",
   "execution_count": null,
   "metadata": {},
   "outputs": [],
   "source": [
    "#default_exp medical.imaging"
   ]
  },
  {
   "cell_type": "markdown",
   "metadata": {},
   "source": [
    "# Medical Imaging\n",
    "\n",
    "> Helpers for working with DICOM files"
   ]
  },
  {
   "cell_type": "code",
   "execution_count": null,
   "metadata": {},
   "outputs": [],
   "source": [
    "#export \n",
    "from fastai2.basics import *\n",
    "from fastai2.vision.all import *\n",
    "from fastai2.data.transforms import *\n",
    "\n",
    "import pydicom,kornia,skimage\n",
    "from pydicom.dataset import Dataset as DcmDataset\n",
    "from pydicom.tag import BaseTag as DcmTag\n",
    "from pydicom.multival import MultiValue as DcmMultiValue\n",
    "from PIL import Image\n",
    "\n",
    "try:\n",
    "    import cv2\n",
    "    cv2.setNumThreads(0)\n",
    "except: pass"
   ]
  },
  {
   "cell_type": "code",
   "execution_count": null,
   "metadata": {},
   "outputs": [],
   "source": [
    "from nbdev.showdoc import *\n",
    "matplotlib.rcParams['image.cmap'] = 'bone'"
   ]
  },
  {
   "cell_type": "code",
   "execution_count": null,
   "metadata": {},
   "outputs": [],
   "source": [
    "#export\n",
    "_all_ = ['DcmDataset', 'DcmTag', 'DcmMultiValue', 'dcmread', 'get_dicom_files']"
   ]
  },
  {
   "cell_type": "markdown",
   "metadata": {},
   "source": [
    "## Patching"
   ]
  },
  {
   "cell_type": "code",
   "execution_count": null,
   "metadata": {},
   "outputs": [],
   "source": [
    "#export\n",
    "def get_dicom_files(path, recurse=True, folders=None):\n",
    "    \"Get dicom files in `path` recursively, only in `folders`, if specified.\"\n",
    "    return get_files(path, extensions=[\".dcm\"], recurse=recurse, folders=folders)"
   ]
  },
  {
   "cell_type": "code",
   "execution_count": null,
   "metadata": {},
   "outputs": [],
   "source": [
    "#export\n",
    "@patch\n",
    "def dcmread(fn:Path, force = False):\n",
    "    \"Open a `DICOM` file\"\n",
    "    return pydicom.dcmread(str(fn), force)"
   ]
  },
  {
   "cell_type": "code",
   "execution_count": null,
   "metadata": {},
   "outputs": [],
   "source": [
    "#export\n",
    "class TensorDicom(TensorImage): _show_args = {'cmap':'gray'}"
   ]
  },
  {
   "cell_type": "code",
   "execution_count": null,
   "metadata": {},
   "outputs": [],
   "source": [
    "#export\n",
    "class PILDicom(PILBase):\n",
    "    _open_args,_tensor_cls,_show_args = {},TensorDicom,TensorDicom._show_args\n",
    "    @classmethod\n",
    "    def create(cls, fn:(Path,str,bytes), mode=None)->None:\n",
    "        \"Open a `DICOM file` from path `fn` or bytes `fn` and load it as a `PIL Image`\"\n",
    "        if isinstance(fn,bytes): im = Image.fromarray(pydicom.dcmread(pydicom.filebase.DicomBytesIO(fn)).pixel_array)\n",
    "        if isinstance(fn,Path): im = Image.fromarray(dcmread(fn).pixel_array)\n",
    "        im.load()\n",
    "        im = im._new(im.im)\n",
    "        return cls(im.convert(mode) if mode else im)\n",
    "\n",
    "PILDicom._tensor_cls = TensorDicom"
   ]
  },
  {
   "cell_type": "code",
   "execution_count": null,
   "metadata": {},
   "outputs": [],
   "source": [
    "# #export\n",
    "# @patch\n",
    "# def png16read(self:Path): return array(Image.open(self), dtype=np.uint16)"
   ]
  },
  {
   "cell_type": "code",
   "execution_count": null,
   "metadata": {},
   "outputs": [],
   "source": [
    "TEST_DCM = Path('images/sample.dcm')\n",
    "dcm = TEST_DCM.dcmread()"
   ]
  },
  {
   "cell_type": "code",
   "execution_count": null,
   "metadata": {},
   "outputs": [],
   "source": [
    "#export\n",
    "@patch_property\n",
    "def pixels(self:DcmDataset):\n",
    "    \"`pixel_array` as a tensor\"\n",
    "    return tensor(self.pixel_array.astype(np.float32))"
   ]
  },
  {
   "cell_type": "code",
   "execution_count": null,
   "metadata": {},
   "outputs": [],
   "source": [
    "#export\n",
    "@patch_property\n",
    "def scaled_px(self:DcmDataset):\n",
    "    \"`pixels` scaled by `RescaleSlope` and `RescaleIntercept`\"\n",
    "    img = self.pixels\n",
    "    return img if self.Modality == \"CR\" else img * self.RescaleSlope + self.RescaleIntercept"
   ]
  },
  {
   "cell_type": "code",
   "execution_count": null,
   "metadata": {},
   "outputs": [],
   "source": [
    "#export\n",
    "def array_freqhist_bins(self, n_bins=100):\n",
    "    \"A numpy based function to split the range of pixel values into groups, such that each group has around the same number of pixels\"\n",
    "    imsd = np.sort(self.flatten())\n",
    "    t = np.array([0.001])\n",
    "    t = np.append(t, np.arange(n_bins)/n_bins+(1/2/n_bins))\n",
    "    t = np.append(t, 0.999)\n",
    "    t = (len(imsd)*t+0.5).astype(np.int)\n",
    "    return np.unique(imsd[t])"
   ]
  },
  {
   "cell_type": "code",
   "execution_count": null,
   "metadata": {},
   "outputs": [],
   "source": [
    "#export\n",
    "@patch\n",
    "def freqhist_bins(self:Tensor, n_bins=100):\n",
    "    \"A function to split the range of pixel values into groups, such that each group has around the same number of pixels\"\n",
    "    imsd = self.view(-1).sort()[0]\n",
    "    t = torch.cat([tensor([0.001]),\n",
    "                   torch.arange(n_bins).float()/n_bins+(1/2/n_bins),\n",
    "                   tensor([0.999])])\n",
    "    t = (len(imsd)*t).long()\n",
    "    return imsd[t].unique()"
   ]
  },
  {
   "cell_type": "code",
   "execution_count": null,
   "metadata": {},
   "outputs": [],
   "source": [
    "#export\n",
    "@patch\n",
    "def hist_scaled_pt(self:Tensor, brks=None):\n",
    "    # Pytorch-only version - switch to this if/when interp_1d can be optimized\n",
    "    if brks is None: brks = self.freqhist_bins()\n",
    "    brks = brks.to(self.device)\n",
    "    ys = torch.linspace(0., 1., len(brks)).to(self.device)\n",
    "    return self.flatten().interp_1d(brks, ys).reshape(self.shape).clamp(0.,1.)"
   ]
  },
  {
   "cell_type": "code",
   "execution_count": null,
   "metadata": {},
   "outputs": [],
   "source": [
    "#export\n",
    "@patch\n",
    "def hist_scaled(self:Tensor, brks=None):\n",
    "    if self.device.type=='cuda': return self.hist_scaled_pt(brks)\n",
    "    if brks is None: brks = self.freqhist_bins()\n",
    "    ys = np.linspace(0., 1., len(brks))\n",
    "    x = self.numpy().flatten()\n",
    "    x = np.interp(x, brks.numpy(), ys)\n",
    "    return tensor(x).reshape(self.shape).clamp(0.,1.)"
   ]
  },
  {
   "cell_type": "code",
   "execution_count": null,
   "metadata": {},
   "outputs": [],
   "source": [
    "#export\n",
    "@patch\n",
    "def hist_scaled(self:DcmDataset, brks=None, min_px=None, max_px=None):\n",
    "    px = self.scaled_px\n",
    "    if min_px is not None: px[px<min_px] = min_px\n",
    "    if max_px is not None: px[px>max_px] = max_px\n",
    "    return px.hist_scaled(brks=brks)"
   ]
  },
  {
   "cell_type": "code",
   "execution_count": null,
   "metadata": {},
   "outputs": [],
   "source": [
    "#export\n",
    "@patch\n",
    "def windowed(self:Tensor, w, l):\n",
    "    px = self.clone()\n",
    "    px_min = l - w//2\n",
    "    px_max = l + w//2\n",
    "    px[px<px_min] = px_min\n",
    "    px[px>px_max] = px_max\n",
    "    return (px-px_min) / (px_max-px_min)"
   ]
  },
  {
   "cell_type": "code",
   "execution_count": null,
   "metadata": {},
   "outputs": [],
   "source": [
    "#export\n",
    "@patch\n",
    "def windowed(self:DcmDataset, w, l):\n",
    "    return self.scaled_px.windowed(w,l)"
   ]
  },
  {
   "cell_type": "code",
   "execution_count": null,
   "metadata": {},
   "outputs": [],
   "source": [
    "#export\n",
    "# From https://radiopaedia.org/articles/windowing-ct\n",
    "dicom_windows = types.SimpleNamespace(\n",
    "    brain=(80,40),\n",
    "    subdural=(254,100),\n",
    "    stroke=(8,32),\n",
    "    brain_bone=(2800,600),\n",
    "    brain_soft=(375,40),\n",
    "    lungs=(1500,-600),\n",
    "    mediastinum=(350,50),\n",
    "    abdomen_soft=(400,50),\n",
    "    liver=(150,30),\n",
    "    spine_soft=(250,50),\n",
    "    spine_bone=(1800,400)\n",
    ")"
   ]
  },
  {
   "cell_type": "code",
   "execution_count": null,
   "metadata": {},
   "outputs": [],
   "source": [
    "#export\n",
    "class TensorCTScan(TensorImageBW): _show_args = {'cmap':'bone'}"
   ]
  },
  {
   "cell_type": "code",
   "execution_count": null,
   "metadata": {},
   "outputs": [],
   "source": [
    "#export\n",
    "class PILCTScan(PILBase): _open_args,_tensor_cls,_show_args = {},TensorCTScan,TensorCTScan._show_args"
   ]
  },
  {
   "cell_type": "code",
   "execution_count": null,
   "metadata": {},
   "outputs": [],
   "source": [
    "#export\n",
    "@patch\n",
    "@delegates(show_image)\n",
    "def show(self:DcmDataset, scale=True, cmap=plt.cm.bone, min_px=-1100, max_px=None, **kwargs):\n",
    "    px = (self.windowed(*scale) if isinstance(scale,tuple)\n",
    "          else self.hist_scaled(min_px=min_px,max_px=max_px,brks=scale) if isinstance(scale,(ndarray,Tensor))\n",
    "          else self.hist_scaled(min_px=min_px,max_px=max_px) if scale\n",
    "          else self.scaled_px)\n",
    "    show_image(px, cmap=cmap, **kwargs)"
   ]
  },
  {
   "cell_type": "code",
   "execution_count": null,
   "metadata": {},
   "outputs": [],
   "source": [
    "scales = False, True, dicom_windows.brain, dicom_windows.subdural\n",
    "titles = 'raw','normalized','brain windowed','subdural windowed'\n",
    "for s,a,t in zip(scales, subplots(2,2,imsize=4)[1].flat, titles):\n",
    "    dcm.show(scale=s, ax=a, title=t)"
   ]
  },
  {
   "cell_type": "code",
   "execution_count": null,
   "metadata": {},
   "outputs": [],
   "source": [
    "dcm.show(cmap=plt.cm.gist_ncar, figsize=(6,6))"
   ]
  },
  {
   "cell_type": "code",
   "execution_count": null,
   "metadata": {},
   "outputs": [],
   "source": [
    "#export\n",
    "@patch\n",
    "def pct_in_window(dcm:DcmDataset, w, l):\n",
    "    \"% of pixels in the window `(w,l)`\"\n",
    "    px = dcm.scaled_px\n",
    "    return ((px > l-w//2) & (px < l+w//2)).float().mean().item()"
   ]
  },
  {
   "cell_type": "code",
   "execution_count": null,
   "metadata": {},
   "outputs": [],
   "source": [
    "dcm.pct_in_window(*dicom_windows.brain)"
   ]
  },
  {
   "cell_type": "code",
   "execution_count": null,
   "metadata": {},
   "outputs": [],
   "source": [
    "#export\n",
    "def uniform_blur2d(x,s):\n",
    "    w = x.new_ones(1,1,1,s)/s\n",
    "    # Factor 2d conv into 2 1d convs\n",
    "    x = unsqueeze(x, dim=0, n=4-x.dim())\n",
    "    r = (F.conv2d(x, w, padding=s//2))\n",
    "    r = (F.conv2d(r, w.transpose(-1,-2), padding=s//2)).cpu()[:,0]\n",
    "    return r.squeeze()"
   ]
  },
  {
   "cell_type": "code",
   "execution_count": null,
   "metadata": {},
   "outputs": [],
   "source": [
    "ims = dcm.hist_scaled(), uniform_blur2d(dcm.hist_scaled(),50)\n",
    "show_images(ims, titles=('orig', 'blurred'))"
   ]
  },
  {
   "cell_type": "code",
   "execution_count": null,
   "metadata": {},
   "outputs": [],
   "source": [
    "#export\n",
    "def gauss_blur2d(x,s):\n",
    "    s2 = int(s/4)*2+1\n",
    "    x2 = unsqueeze(x, dim=0, n=4-x.dim())\n",
    "    res = kornia.filters.gaussian_blur2d(x2, (s2,s2), (s,s), 'replicate')\n",
    "    return res.squeeze()"
   ]
  },
  {
   "cell_type": "code",
   "execution_count": null,
   "metadata": {},
   "outputs": [],
   "source": [
    "#export\n",
    "@patch\n",
    "def mask_from_blur(x:Tensor, window, sigma=0.3, thresh=0.05, remove_max=True):\n",
    "    p = x.windowed(*window)\n",
    "    if remove_max: p[p==1] = 0\n",
    "    return gauss_blur2d(p, s=sigma*x.shape[-1])>thresh"
   ]
  },
  {
   "cell_type": "code",
   "execution_count": null,
   "metadata": {},
   "outputs": [],
   "source": [
    "#export\n",
    "@patch\n",
    "def mask_from_blur(x:DcmDataset, window, sigma=0.3, thresh=0.05, remove_max=True):\n",
    "    return to_device(x.scaled_px).mask_from_blur(window, sigma, thresh, remove_max=remove_max)"
   ]
  },
  {
   "cell_type": "code",
   "execution_count": null,
   "metadata": {},
   "outputs": [],
   "source": [
    "mask = dcm.mask_from_blur(dicom_windows.brain)\n",
    "wind = dcm.windowed(*dicom_windows.brain)\n",
    "\n",
    "_,ax = subplots(1,1)\n",
    "show_image(wind, ax=ax[0])\n",
    "show_image(mask, alpha=0.5, cmap=plt.cm.Reds, ax=ax[0]);"
   ]
  },
  {
   "cell_type": "code",
   "execution_count": null,
   "metadata": {},
   "outputs": [],
   "source": [
    "#export\n",
    "def _px_bounds(x, dim):\n",
    "    c = x.sum(dim).nonzero().cpu()\n",
    "    idxs,vals = torch.unique(c[:,0],return_counts=True)\n",
    "    vs = torch.split_with_sizes(c[:,1],tuple(vals))\n",
    "    d = {k.item():v for k,v in zip(idxs,vs)}\n",
    "    default_u = tensor([0,x.shape[-1]-1])\n",
    "    b = [d.get(o,default_u) for o in range(x.shape[0])]\n",
    "    b = [tensor([o.min(),o.max()]) for o in b]\n",
    "    return torch.stack(b)"
   ]
  },
  {
   "cell_type": "code",
   "execution_count": null,
   "metadata": {},
   "outputs": [],
   "source": [
    "#export\n",
    "def mask2bbox(mask):\n",
    "    no_batch = mask.dim()==2\n",
    "    if no_batch: mask = mask[None]\n",
    "    bb1 = _px_bounds(mask,-1).t()\n",
    "    bb2 = _px_bounds(mask,-2).t()\n",
    "    res = torch.stack([bb1,bb2],dim=1).to(mask.device)\n",
    "    return res[...,0] if no_batch else res"
   ]
  },
  {
   "cell_type": "code",
   "execution_count": null,
   "metadata": {},
   "outputs": [],
   "source": [
    "bbs = mask2bbox(mask)\n",
    "lo,hi = bbs\n",
    "show_image(wind[lo[0]:hi[0],lo[1]:hi[1]]);"
   ]
  },
  {
   "cell_type": "code",
   "execution_count": null,
   "metadata": {},
   "outputs": [],
   "source": [
    "#export\n",
    "def _bbs2sizes(crops, init_sz, use_square=True):\n",
    "    bb = crops.flip(1)\n",
    "    szs = (bb[1]-bb[0])\n",
    "    if use_square: szs = szs.max(0)[0][None].repeat((2,1))\n",
    "    overs = (szs+bb[0])>init_sz\n",
    "    bb[0][overs] = init_sz-szs[overs]\n",
    "    lows = (bb[0]/float(init_sz))\n",
    "    return lows,szs/float(init_sz)"
   ]
  },
  {
   "cell_type": "code",
   "execution_count": null,
   "metadata": {},
   "outputs": [],
   "source": [
    "#export\n",
    "def crop_resize(x, crops, new_sz):\n",
    "    # NB assumes square inputs. Not tested for non-square anythings!\n",
    "    bs = x.shape[0]\n",
    "    lows,szs = _bbs2sizes(crops, x.shape[-1])\n",
    "    if not isinstance(new_sz,(list,tuple)): new_sz = (new_sz,new_sz)\n",
    "    id_mat = tensor([[1.,0,0],[0,1,0]])[None].repeat((bs,1,1)).to(x.device)\n",
    "    with warnings.catch_warnings():\n",
    "        warnings.filterwarnings('ignore', category=UserWarning)\n",
    "        sp = F.affine_grid(id_mat, (bs,1,*new_sz))+1.\n",
    "        grid = sp*unsqueeze(szs.t(),1,n=2)+unsqueeze(lows.t()*2.,1,n=2)\n",
    "        return F.grid_sample(x.unsqueeze(1), grid-1)"
   ]
  },
  {
   "cell_type": "code",
   "execution_count": null,
   "metadata": {},
   "outputs": [],
   "source": [
    "px256 = crop_resize(to_device(wind[None]), bbs[...,None], 128)[0]\n",
    "show_image(px256)\n",
    "px256.shape"
   ]
  },
  {
   "cell_type": "code",
   "execution_count": null,
   "metadata": {},
   "outputs": [],
   "source": [
    "#export\n",
    "@patch\n",
    "def to_nchan(x:Tensor, wins, bins=None):\n",
    "    res = [x.windowed(*win) for win in wins]\n",
    "    if not isinstance(bins,int) or bins!=0: res.append(x.hist_scaled(bins).clamp(0,1))\n",
    "    dim = [0,1][x.dim()==3]\n",
    "    return TensorCTScan(torch.stack(res, dim=dim))"
   ]
  },
  {
   "cell_type": "code",
   "execution_count": null,
   "metadata": {},
   "outputs": [],
   "source": [
    "#export\n",
    "@patch\n",
    "def to_nchan(x:DcmDataset, wins, bins=None):\n",
    "    return x.scaled_px.to_nchan(wins, bins)"
   ]
  },
  {
   "cell_type": "code",
   "execution_count": null,
   "metadata": {},
   "outputs": [],
   "source": [
    "#export\n",
    "@patch\n",
    "def to_3chan(x:Tensor, win1, win2, bins=None):\n",
    "    return x.to_nchan([win1,win2],bins=bins)"
   ]
  },
  {
   "cell_type": "code",
   "execution_count": null,
   "metadata": {},
   "outputs": [],
   "source": [
    "#export\n",
    "@patch\n",
    "def to_3chan(x:DcmDataset, win1, win2, bins=None):\n",
    "    return x.scaled_px.to_3chan(win1, win2, bins)"
   ]
  },
  {
   "cell_type": "code",
   "execution_count": null,
   "metadata": {},
   "outputs": [],
   "source": [
    "show_images(dcm.to_nchan([dicom_windows.brain,dicom_windows.subdural,dicom_windows.abdomen_soft]))"
   ]
  },
  {
   "cell_type": "code",
   "execution_count": null,
   "metadata": {},
   "outputs": [],
   "source": [
    "#export\n",
    "@patch\n",
    "def save_jpg(x:(Tensor,DcmDataset), path, wins, bins=None, quality=90):\n",
    "    fn = Path(path).with_suffix('.jpg')\n",
    "    x = (x.to_nchan(wins, bins)*255).byte()\n",
    "    im = Image.fromarray(x.permute(1,2,0).numpy(), mode=['RGB','CMYK'][x.shape[0]==4])\n",
    "    im.save(fn, quality=quality)"
   ]
  },
  {
   "cell_type": "code",
   "execution_count": null,
   "metadata": {},
   "outputs": [],
   "source": [
    "#export\n",
    "@patch\n",
    "def to_uint16(x:(Tensor,DcmDataset), bins=None):\n",
    "    d = x.hist_scaled(bins).clamp(0,1) * 2**16\n",
    "    return d.numpy().astype(np.uint16)"
   ]
  },
  {
   "cell_type": "code",
   "execution_count": null,
   "metadata": {},
   "outputs": [],
   "source": [
    "#export\n",
    "@patch\n",
    "def save_tif16(x:(Tensor,DcmDataset), path, bins=None, compress=True):\n",
    "    fn = Path(path).with_suffix('.tif')\n",
    "    Image.fromarray(x.to_uint16(bins)).save(str(fn), compression='tiff_deflate' if compress else None)"
   ]
  },
  {
   "cell_type": "code",
   "execution_count": null,
   "metadata": {},
   "outputs": [],
   "source": [
    "_,axs=subplots(1,2)\n",
    "with tempfile.TemporaryDirectory() as f:\n",
    "    f = Path(f)\n",
    "    dcm.save_jpg(f/'test.jpg', [dicom_windows.brain,dicom_windows.subdural])\n",
    "    show_image(Image.open(f/'test.jpg'), ax=axs[0])\n",
    "    dcm.save_tif16(f/'test.tif')\n",
    "    show_image(Image.open(str(f/'test.tif')), ax=axs[1]);"
   ]
  },
  {
   "cell_type": "code",
   "execution_count": null,
   "metadata": {},
   "outputs": [],
   "source": [
    "#export\n",
    "@patch\n",
    "def set_pixels(self:DcmDataset, px):\n",
    "    self.PixelData = px.tobytes()\n",
    "    self.Rows,self.Columns = px.shape\n",
    "DcmDataset.pixel_array = property(DcmDataset.pixel_array.fget, set_pixels)"
   ]
  },
  {
   "cell_type": "code",
   "execution_count": null,
   "metadata": {},
   "outputs": [],
   "source": [
    "#export\n",
    "@patch\n",
    "def zoom(self:DcmDataset, ratio):\n",
    "    with warnings.catch_warnings():\n",
    "        warnings.simplefilter(\"ignore\", UserWarning)\n",
    "        self.pixel_array = ndimage.zoom(self.pixel_array, ratio)"
   ]
  },
  {
   "cell_type": "code",
   "execution_count": null,
   "metadata": {},
   "outputs": [],
   "source": [
    "#export\n",
    "@patch\n",
    "def zoom_to(self:DcmDataset, sz):\n",
    "    if not isinstance(sz,(list,tuple)): sz=(sz,sz)\n",
    "    rows,cols = sz\n",
    "    self.zoom((rows/self.Rows,cols/self.Columns))"
   ]
  },
  {
   "cell_type": "code",
   "execution_count": null,
   "metadata": {},
   "outputs": [],
   "source": [
    "#export\n",
    "@patch_property\n",
    "def shape(self:DcmDataset): return self.Rows,self.Columns"
   ]
  },
  {
   "cell_type": "code",
   "execution_count": null,
   "metadata": {},
   "outputs": [],
   "source": [
    "dcm2 = TEST_DCM.dcmread()\n",
    "dcm2.zoom_to(90)\n",
    "test_eq(dcm2.shape, (90,90))"
   ]
  },
  {
   "cell_type": "code",
   "execution_count": null,
   "metadata": {},
   "outputs": [],
   "source": [
    "dcm2 = TEST_DCM.dcmread()\n",
    "dcm2.zoom(0.25)\n",
    "dcm2.show()"
   ]
  },
  {
   "cell_type": "code",
   "execution_count": null,
   "metadata": {},
   "outputs": [],
   "source": [
    "#export\n",
    "def _cast_dicom_special(x):\n",
    "    cls = type(x)\n",
    "    if not cls.__module__.startswith('pydicom'): return x\n",
    "    if cls.__base__ == object: return x\n",
    "    return cls.__base__(x)\n",
    "\n",
    "def _split_elem(res,k,v):\n",
    "    if not isinstance(v,DcmMultiValue): return\n",
    "    res[f'Multi{k}'] = 1\n",
    "    for i,o in enumerate(v): res[f'{k}{\"\" if i==0 else i}']=o"
   ]
  },
  {
   "cell_type": "code",
   "execution_count": null,
   "metadata": {},
   "outputs": [],
   "source": [
    "#export\n",
    "@patch\n",
    "def as_dict(self:DcmDataset, px_summ=True, window=dicom_windows.brain):\n",
    "    pxdata = (0x7fe0,0x0010)\n",
    "    vals = [self[o] for o in self.keys() if o != pxdata]\n",
    "    its = [(v.keyword,v.value) for v in vals]\n",
    "    res = dict(its)\n",
    "    res['fname'] = self.filename\n",
    "    for k,v in its: _split_elem(res,k,v)\n",
    "    if not px_summ: return res\n",
    "    stats = 'min','max','mean','std'\n",
    "    try:\n",
    "        pxs = self.pixel_array\n",
    "        for f in stats: res['img_'+f] = getattr(pxs,f)()\n",
    "        res['img_pct_window'] = self.pct_in_window(*window)\n",
    "    except Exception as e:\n",
    "        for f in stats: res['img_'+f] = 0\n",
    "        print(res,e)\n",
    "    for k in res: res[k] = _cast_dicom_special(res[k])\n",
    "    return res"
   ]
  },
  {
   "cell_type": "code",
   "execution_count": null,
   "metadata": {},
   "outputs": [],
   "source": [
    "#export\n",
    "def _dcm2dict(fn, **kwargs): return fn.dcmread().as_dict(**kwargs)"
   ]
  },
  {
   "cell_type": "code",
   "execution_count": null,
   "metadata": {},
   "outputs": [],
   "source": [
    "#export\n",
    "@delegates(parallel)\n",
    "def _from_dicoms(cls, fns, n_workers=0, **kwargs):\n",
    "    return pd.DataFrame(parallel(_dcm2dict, fns, n_workers=n_workers, **kwargs))\n",
    "pd.DataFrame.from_dicoms = classmethod(_from_dicoms)"
   ]
  },
  {
   "cell_type": "markdown",
   "metadata": {},
   "source": [
    "## Export -"
   ]
  },
  {
   "cell_type": "code",
   "execution_count": null,
   "metadata": {},
   "outputs": [
    {
     "name": "stdout",
     "output_type": "stream",
     "text": [
      "Converted 00_torch_core.ipynb.\n",
      "Converted 01_layers.ipynb.\n",
      "Converted 02_data.load.ipynb.\n",
      "Converted 03_data.core.ipynb.\n",
      "Converted 04_data.external.ipynb.\n",
      "Converted 05_data.transforms.ipynb.\n",
      "Converted 06_data.block.ipynb.\n",
      "Converted 07_vision.core.ipynb.\n",
      "Converted 08_vision.data.ipynb.\n",
      "Converted 09_vision.augment.ipynb.\n",
      "Converted 09b_vision.utils.ipynb.\n",
      "Converted 09c_vision.widgets.ipynb.\n",
      "Converted 10_tutorial.pets.ipynb.\n",
      "Converted 11_vision.models.xresnet.ipynb.\n",
      "Converted 12_optimizer.ipynb.\n",
      "Converted 13_callback.core.ipynb.\n",
      "Converted 13a_learner.ipynb.\n",
      "Converted 13b_metrics.ipynb.\n",
      "Converted 14_callback.schedule.ipynb.\n",
      "Converted 14a_callback.data.ipynb.\n",
      "Converted 15_callback.hook.ipynb.\n",
      "Converted 15a_vision.models.unet.ipynb.\n",
      "Converted 16_callback.progress.ipynb.\n",
      "Converted 17_callback.tracker.ipynb.\n",
      "Converted 18_callback.fp16.ipynb.\n",
      "Converted 19_callback.mixup.ipynb.\n",
      "Converted 20_interpret.ipynb.\n",
      "Converted 20a_distributed.ipynb.\n",
      "Converted 21_vision.learner.ipynb.\n",
      "Converted 22_tutorial.imagenette.ipynb.\n",
      "Converted 23_tutorial.vision.ipynb.\n",
      "Converted 24_tutorial.siamese.ipynb.\n",
      "Converted 30_text.core.ipynb.\n",
      "Converted 31_text.data.ipynb.\n",
      "Converted 32_text.models.awdlstm.ipynb.\n",
      "Converted 33_text.models.core.ipynb.\n",
      "Converted 34_callback.rnn.ipynb.\n",
      "Converted 35_tutorial.wikitext.ipynb.\n",
      "Converted 36_text.models.qrnn.ipynb.\n",
      "Converted 37_text.learner.ipynb.\n",
      "Converted 38_tutorial.text.ipynb.\n",
      "Converted 40_tabular.core.ipynb.\n",
      "Converted 41_tabular.data.ipynb.\n",
      "Converted 42_tabular.model.ipynb.\n",
      "Converted 43_tabular.learner.ipynb.\n",
      "Converted 44_tutorial.tabular.ipynb.\n",
      "Converted 45_collab.ipynb.\n",
      "Converted 50_tutorial.datablock.ipynb.\n",
      "Converted 60_medical.imaging.ipynb.\n",
      "Converted 61_tutorial.medical_imaging.ipynb.\n",
      "Converted 65_medical.text.ipynb.\n",
      "Converted 70_callback.wandb.ipynb.\n",
      "Converted 71_callback.tensorboard.ipynb.\n",
      "Converted 72_callback.neptune.ipynb.\n",
      "Converted 97_test_utils.ipynb.\n",
      "Converted 99_pytorch_doc.ipynb.\n",
      "Converted index.ipynb.\n",
      "Converted tutorial.ipynb.\n"
     ]
    }
   ],
   "source": [
    "#hide\n",
    "from nbdev.export import notebook2script\n",
    "notebook2script()"
   ]
  },
  {
   "cell_type": "code",
   "execution_count": null,
   "metadata": {},
   "outputs": [],
   "source": []
  }
 ],
 "metadata": {
  "jupytext": {
   "split_at_heading": true
  },
  "kernelspec": {
   "display_name": "Python 3",
   "language": "python",
   "name": "python3"
  }
 },
 "nbformat": 4,
 "nbformat_minor": 2
}
